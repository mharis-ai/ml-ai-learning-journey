{
 "cells": [
  {
   "cell_type": "markdown",
   "id": "e0d0e3c7",
   "metadata": {},
   "source": [
    "## Task 1\n",
    "\n",
    "How many payment transactions were **greater than $5.00**?\n",
    "\n",
    "**Question:** Count the number of payments where the amount is more than $5.00.\n",
    "\n",
    "```sql\n",
    "SELECT COUNT(amount)\n",
    "FROM payment\n",
    "WHERE amount > 5.00;"
   ]
  },
  {
   "cell_type": "markdown",
   "id": "cc012361",
   "metadata": {},
   "source": [
    "## Task 2\n",
    "\n",
    "How many actors have a first name that **starts with the letter P**?\n",
    "\n",
    "**Question:** Count the number of actors whose first name begins with **\"P\"**.\n",
    "\n",
    "```sql\n",
    "SELECT COUNT(first_name)\n",
    "FROM actor\n",
    "WHERE first_name LIKE 'P%';"
   ]
  },
  {
   "cell_type": "markdown",
   "id": "fe341e1a",
   "metadata": {},
   "source": [
    "## Task 3\n",
    "\n",
    "How many **unique districts** are our customers from?\n",
    "\n",
    "**Question:** Count the number of distinct districts, and then list those district names.\n",
    "\n",
    "```sql\n",
    "-- Count the number of unique districts\n",
    "SELECT COUNT(DISTINCT(district))\n",
    "FROM address;\n",
    "\n",
    "--------------------------------------------------------\n",
    "\n",
    "-- Retrieve the list of those unique districts\n",
    "SELECT DISTINCT(district)\n",
    "FROM address;"
   ]
  },
  {
   "cell_type": "markdown",
   "id": "319964d8",
   "metadata": {},
   "source": [
    "## Task 4\n",
    "\n",
    "How many films have a **rating of R** and a **replacement cost between $5 and $15**?\n",
    "\n",
    "**Question:** Count the number of R-rated films with a replacement cost in the range of 5 to 15 dollars.\n",
    "\n",
    "```sql\n",
    "SELECT COUNT(*)\n",
    "FROM film\n",
    "WHERE rating = 'R'\n",
    "AND replacement_cost BETWEEN 5 AND 15;"
   ]
  },
  {
   "cell_type": "markdown",
   "id": "d9d8b991",
   "metadata": {},
   "source": [
    "## Task 5\n",
    "\n",
    "How many films have the word **\"Truman\"** somewhere in the title?\n",
    "\n",
    "**Question:** Count the number of films where the title contains the word *Truman*.\n",
    "\n",
    "```sql\n",
    "SELECT COUNT(*)\n",
    "FROM film\n",
    "WHERE title LIKE '%Truman%';"
   ]
  }
 ],
 "metadata": {
  "language_info": {
   "name": "python"
  }
 },
 "nbformat": 4,
 "nbformat_minor": 5
}
