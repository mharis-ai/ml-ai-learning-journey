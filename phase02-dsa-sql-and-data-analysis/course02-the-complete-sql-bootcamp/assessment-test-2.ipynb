{
 "cells": [
  {
   "cell_type": "markdown",
   "id": "1a15ccaf",
   "metadata": {},
   "source": [
    "## Task 1\n",
    "\n",
    "How can you retrieve all the information from the cd.facilities table?\n",
    "\n",
    "**Question:**  \n",
    "How can you retrieve all the information from the cd.facilities table?\n",
    "\n",
    "**Answer:** Returns all columns and rows from cd.facilities.\n",
    "\n",
    "```sql\n",
    "SELECT * FROM cd.facilities;"
   ]
  },
  {
   "cell_type": "markdown",
   "id": "1895aadd",
   "metadata": {},
   "source": [
    "## Task 2\n",
    "\n",
    "You want to print out a list of all of the facilities and their cost to members.  \n",
    "How would you retrieve a list of only facility names and costs?\n",
    "\n",
    "**Question:**  \n",
    "How would you retrieve a list of only facility names and their member costs?\n",
    "\n",
    "**Answer:** name, membercost\n",
    "\n",
    "```sql\n",
    "SELECT name, membercost \n",
    "FROM cd.facilities;"
   ]
  },
  {
   "cell_type": "markdown",
   "id": "815db8e6",
   "metadata": {},
   "source": [
    "## Task 3\n",
    "\n",
    "How can you produce a list of facilities that charge a fee to members?\n",
    "\n",
    "**Question:**  \n",
    "Which facilities charge a member cost greater than 0?\n",
    "\n",
    "**Answer:** Facilities where membercost > 0\n",
    "\n",
    "```sql\n",
    "SELECT name, membercost \n",
    "FROM cd.facilities\n",
    "WHERE membercost > 0;"
   ]
  },
  {
   "cell_type": "markdown",
   "id": "25363e91",
   "metadata": {},
   "source": [
    "## Task 4\n",
    "\n",
    "How can you produce a list of facilities that charge a fee to members, and that fee is less than 1/50th of the monthly maintenance cost?  \n",
    "Return the facid, facility name, member cost, and monthly maintenance of the facilities in question.\n",
    "\n",
    "**Question:**  \n",
    "Which facilities have a member cost greater than 0 and less than 1/50th of the monthly maintenance?\n",
    "\n",
    "**Answer:** facid, name, membercost, monthlymaintenance\n",
    "\n",
    "```sql\n",
    "SELECT facid, name, membercost, monthlymaintenance\n",
    "FROM cd.facilities\n",
    "WHERE membercost > 0 AND membercost < (monthlymaintenance/50.0);"
   ]
  },
  {
   "cell_type": "markdown",
   "id": "24a75af9",
   "metadata": {},
   "source": [
    "## Task 5\n",
    "\n",
    "How can you produce a list of all facilities with the word 'Tennis' in their name?\n",
    "\n",
    "**Question:**  \n",
    "Which facilities have 'Tennis' in their name?\n",
    "\n",
    "**Answer:** Facilities where name contains 'Tennis'\n",
    "\n",
    "```sql\n",
    "SELECT * FROM cd.facilities\n",
    "WHERE name LIKE '%Tennis%';"
   ]
  },
  {
   "cell_type": "markdown",
   "id": "d1bf438f",
   "metadata": {},
   "source": [
    "## Task 6\n",
    "\n",
    "How can you retrieve the details of facilities with ID 1 and 5 without using the OR operator?\n",
    "\n",
    "**Question:**  \n",
    "How to get facility details for facid 1 and 5?\n",
    "\n",
    "**Answer:** Use IN (1,5)\n",
    "\n",
    "```sql\n",
    "SELECT * FROM cd.facilities\n",
    "WHERE facid IN (1,5);"
   ]
  },
  {
   "cell_type": "markdown",
   "id": "5f11622e",
   "metadata": {},
   "source": [
    "## Task 7\n",
    "\n",
    "How can you produce a list of members who joined after the start of September 2012?  \n",
    "Return memid, surname, firstname, and joindate of the members in question.\n",
    "\n",
    "**Question:**  \n",
    "Which members joined on or after 2012-09-01?\n",
    "\n",
    "**Answer:** memid, surname, firstname, joindate\n",
    "\n",
    "```sql\n",
    "SELECT memid, surname, firstname, joindate \n",
    "FROM cd.members\n",
    "WHERE joindate >= '2012-09-01';"
   ]
  },
  {
   "cell_type": "markdown",
   "id": "20363381",
   "metadata": {},
   "source": [
    "## Task 8\n",
    "\n",
    "How can you produce an ordered list of the first 10 surnames in the members table?  \n",
    "This list must not contain duplicates.\n",
    "\n",
    "**Question:**  \n",
    "How do you return the first 10 unique surnames in alphabetical order?\n",
    "\n",
    "**Answer:** DISTINCT surnames ordered alphabetically, limited to 10\n",
    "\n",
    "```sql\n",
    "SELECT DISTINCT surname\n",
    "FROM cd.members\n",
    "ORDER BY surname\n",
    "LIMIT 10;"
   ]
  },
  {
   "cell_type": "markdown",
   "id": "1eeb0de6",
   "metadata": {},
   "source": [
    "## Task 9\n",
    "\n",
    "You'd like to get the signup date of your last member. How can you retrieve this information?\n",
    "\n",
    "**Question:**  \n",
    "How do you get the most recent joindate from cd.members?\n",
    "\n",
    "**Answer:** Use MAX(joindate)\n",
    "\n",
    "```sql\n",
    "SELECT MAX(joindate)\n",
    "FROM cd.members;"
   ]
  },
  {
   "cell_type": "markdown",
   "id": "bcdb7a41",
   "metadata": {},
   "source": [
    "## Task 10\n",
    "\n",
    "Produce a count of the number of facilities that have a cost to guests of 10 or more.\n",
    "\n",
    "**Question:**  \n",
    "How many facilities have a guest cost of 10 or higher?\n",
    "\n",
    "**Answer:** COUNT of facilities where guestcost ≥ 10\n",
    "\n",
    "```sql\n",
    "SELECT COUNT(*)\n",
    "FROM cd.facilities\n",
    "WHERE guestcost >= 10;"
   ]
  },
  {
   "cell_type": "markdown",
   "id": "e4f12ea6",
   "metadata": {},
   "source": [
    "## Task 11\n",
    "\n",
    "How can you produce a list of facilities showing the total number of slots booked for each, for bookings that started in September 2012?  \n",
    "Return the facility ID and total slots, ordered by total slots.\n",
    "\n",
    "**Question:**  \n",
    "Which facility IDs have how many total slots booked between 2012-09-01 and 2012-10-01?\n",
    "\n",
    "**Answer:** facid and SUM(slots), grouped and ordered by total slots\n",
    "\n",
    "```sql\n",
    "SELECT facid, SUM(slots) AS total_slots\n",
    "FROM cd.bookings\n",
    "WHERE starttime BETWEEN '2012-09-01' AND '2012-10-01'\n",
    "GROUP BY facid\n",
    "ORDER BY SUM(slots);"
   ]
  },
  {
   "cell_type": "markdown",
   "id": "815045a7",
   "metadata": {},
   "source": [
    "## Task 12\n",
    "\n",
    "Produce a list of facilities where the total number of booked slots exceeds 1000.  \n",
    "Return the facility ID and the total slots booked.\n",
    "\n",
    "**Question:**  \n",
    "Which facilities have more than 1000 total slots booked?\n",
    "\n",
    "**Answer:** facid and SUM(slots) for facilities where total slots > 1000\n",
    "\n",
    "```sql\n",
    "SELECT facid, SUM(slots) AS total_slots\n",
    "FROM cd.bookings\n",
    "GROUP BY facid\n",
    "HAVING SUM(slots) > 1000\n",
    "ORDER BY facid;"
   ]
  },
  {
   "cell_type": "markdown",
   "id": "cf4963a6",
   "metadata": {},
   "source": [
    "## Task 13\n",
    "\n",
    "Produce a list of bookings for all tennis courts on September 21st, 2012.  \n",
    "Return the booking start time and the facility name, ordered by the start time.\n",
    "\n",
    "**Question:**  \n",
    "Which tennis court bookings occurred on 2012-09-21?\n",
    "\n",
    "**Answer:** starttime and facility name for bookings on that date containing 'Tennis Court'\n",
    "\n",
    "```sql\n",
    "SELECT cd.bookings.starttime, cd.facilities.name\n",
    "FROM cd.bookings\n",
    "INNER JOIN cd.facilities\n",
    "ON cd.bookings.facid = cd.facilities.facid\n",
    "WHERE DATE(cd.bookings.starttime) = '2012-09-21'\n",
    "AND cd.facilities.name ILIKE '%tennis court%'\n",
    "ORDER BY cd.bookings.starttime;"
   ]
  },
  {
   "cell_type": "markdown",
   "id": "44ee1a6f",
   "metadata": {},
   "source": [
    "## Task 14\n",
    "\n",
    "Produce a list of start times for bookings made by the member named *David Farrell*.\n",
    "\n",
    "**Question:**  \n",
    "What are the booking start times for the member whose firstname is David and surname is Farrell?\n",
    "\n",
    "**Answer:** starttime of bookings made by David Farrell\n",
    "\n",
    "```sql\n",
    "SELECT cd.bookings.starttime \n",
    "FROM cd.bookings\n",
    "INNER JOIN cd.members\n",
    "ON cd.bookings.memid = cd.members.memid\n",
    "WHERE cd.members.firstname = 'David'\n",
    "AND cd.members.surname = 'Farrell';"
   ]
  }
 ],
 "metadata": {
  "language_info": {
   "name": "python"
  }
 },
 "nbformat": 4,
 "nbformat_minor": 5
}
