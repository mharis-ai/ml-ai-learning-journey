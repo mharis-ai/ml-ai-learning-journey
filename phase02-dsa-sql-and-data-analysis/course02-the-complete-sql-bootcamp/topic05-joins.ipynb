{
 "cells": [
  {
   "cell_type": "markdown",
   "id": "10950b1b",
   "metadata": {},
   "source": [
    "## Task 1\n",
    "\n",
    "The sales tax in **California** has changed. We want to alert customers by email.  \n",
    "\n",
    "**Question:**  \n",
    "Which customers live in California, and what are their **email addresses**?\n",
    "\n",
    "```sql\n",
    "SELECT district,email FROM address \n",
    "INNER JOIN customer\n",
    "ON address.address_id = customer.address_id\n",
    "WHERE district = 'California'"
   ]
  },
  {
   "cell_type": "markdown",
   "id": "d0443655",
   "metadata": {},
   "source": [
    "## Task 2\n",
    "\n",
    "A customer walks in and is a huge fan of **Nick Wahlberg**.  \n",
    "We need to find **all movies** that he has acted in.\n",
    "\n",
    "**Question:**  \n",
    "Which films feature actor **Nick Wahlberg**?\n",
    "\n",
    "```sql\n",
    "SELECT title, first_name, last_name\n",
    "FROM film\n",
    "INNER JOIN film_actor\n",
    "ON film.film_id = film_actor.film_id\n",
    "INNER JOIN actor\n",
    "ON film_actor.actor_id = actor.actor_id\n",
    "WHERE first_name = 'Nick'\n",
    "AND last_name = 'Wahlberg';"
   ]
  }
 ],
 "metadata": {
  "language_info": {
   "name": "python"
  }
 },
 "nbformat": 4,
 "nbformat_minor": 5
}
