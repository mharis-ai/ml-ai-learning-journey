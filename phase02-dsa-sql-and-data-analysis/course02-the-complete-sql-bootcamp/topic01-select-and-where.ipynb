{
 "cells": [
  {
   "cell_type": "markdown",
   "id": "841d08e5",
   "metadata": {},
   "source": [
    "## Task 1\n",
    "\n",
    "A customer forgot their wallet at our store! We need to track down their email to inform them.\n",
    "\n",
    "**Question:** What is the email for the customer with the name **Nancy Thomas**?\n",
    "\n",
    "```sql\n",
    "SELECT email\n",
    "FROM customer\n",
    "WHERE first_name = 'Nancy'\n",
    "AND last_name = 'Thomas';"
   ]
  },
  {
   "cell_type": "markdown",
   "id": "ac33c2e8",
   "metadata": {},
   "source": [
    "## Task 2\n",
    "\n",
    "A customer wants to know what the movie **\"Outlaw Hanky\"** is about.\n",
    "\n",
    "**Question:** Could you give them the description for the movie *Outlaw Hanky*?\n",
    "\n",
    "```sql\n",
    "SELECT description \n",
    "FROM film\n",
    "WHERE title = 'Outlaw Hanky';"
   ]
  },
  {
   "cell_type": "markdown",
   "id": "d7113ccb",
   "metadata": {},
   "source": [
    "## Task 3\n",
    "\n",
    "A customer is late on their movie return. We know their address is **\"259 Ipoh Drive\"** and need to call them.\n",
    "\n",
    "**Question:** Can you get the phone number for the person who lives at **259 Ipoh Drive**?\n",
    "\n",
    "```sql\n",
    "SELECT phone\n",
    "FROM address\n",
    "WHERE address = '259 Ipoh Drive';"
   ]
  }
 ],
 "metadata": {
  "language_info": {
   "name": "python"
  }
 },
 "nbformat": 4,
 "nbformat_minor": 5
}
