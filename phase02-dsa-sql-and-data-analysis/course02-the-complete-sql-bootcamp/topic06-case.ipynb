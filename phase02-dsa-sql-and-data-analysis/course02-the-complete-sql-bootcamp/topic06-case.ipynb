{
 "cells": [
  {
   "cell_type": "markdown",
   "id": "b8cd5ea1",
   "metadata": {},
   "source": [
    "## Task\n",
    "\n",
    "We want to know and compare the various amounts of films we have per movie rating.\n",
    "\n",
    "**Question:**  \n",
    "How many films are there for each rating category (**R**, **PG**, and **PG-13**)? Use `CASE` to count the number of films per rating.\n",
    "\n",
    "```sql\n",
    "SELECT\n",
    "\tSUM(CASE rating\n",
    "\t\tWHEN 'R' THEN 1\n",
    "\t\tELSE 0\n",
    "\tEND) AS r,\n",
    "\t\n",
    "\tSUM(CASE rating\n",
    "\t\tWHEN 'PG' THEN 1\n",
    "\t\tELSE 0\n",
    "\tEND) AS pg,\n",
    "\t\n",
    "\tSUM(CASE rating\n",
    "\t\tWHEN 'PG-13' THEN 1\n",
    "\t\tELSE 0\n",
    "\tEND) AS \"pg-13\"\n",
    "FROM film;"
   ]
  }
 ],
 "metadata": {
  "language_info": {
   "name": "python"
  }
 },
 "nbformat": 4,
 "nbformat_minor": 5
}
