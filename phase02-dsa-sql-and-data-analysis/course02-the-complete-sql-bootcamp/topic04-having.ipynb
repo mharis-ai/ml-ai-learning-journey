{
 "cells": [
  {
   "cell_type": "markdown",
   "id": "79114b92",
   "metadata": {},
   "source": [
    "## Task 1\n",
    "\n",
    "We want to know what customers are eligible for our **platinum credit card**.  \n",
    "The requirement is that a customer must have at least **40 transaction payments**.\n",
    "\n",
    "**Question:**  \n",
    "Which customers (by `customer_id`) are eligible for the platinum credit card?\n",
    "\n",
    "```sql\n",
    "SELECT customer_id, COUNT(amount)\n",
    "FROM payment\n",
    "GROUP BY customer_id\n",
    "HAVING COUNT(amount) >= 40;"
   ]
  },
  {
   "cell_type": "markdown",
   "id": "1098fac7",
   "metadata": {},
   "source": [
    "## Task 2\n",
    "\n",
    "When grouped by rating, we want to know which **movie ratings have an average rental duration of more than 5 days**.\n",
    "\n",
    "**Question:**  \n",
    "Identify the movie ratings where the average rental duration exceeds 5 days.\n",
    "\n",
    "```sql\n",
    "SELECT rating, AVG(rental_duration)\n",
    "FROM film\n",
    "GROUP BY rating\n",
    "HAVING AVG(rental_duration) > 5;"
   ]
  }
 ],
 "metadata": {
  "language_info": {
   "name": "python"
  }
 },
 "nbformat": 4,
 "nbformat_minor": 5
}
