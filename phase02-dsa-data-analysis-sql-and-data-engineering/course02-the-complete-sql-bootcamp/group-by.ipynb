{
 "cells": [
  {
   "cell_type": "markdown",
   "id": "96722795",
   "metadata": {},
   "source": [
    "## Task 1\n",
    "\n",
    "We have two staff members with Staff IDs **1** and **2**.  \n",
    "We want to give a bonus to the staff member who handled the most payments.\n",
    "\n",
    "**Question:**  \n",
    "How many payments did each staff member handle, and what was the **total amount** processed by each staff member?\n",
    "\n",
    "```sql\n",
    "SELECT staff_id, COUNT(amount), SUM(amount)  -- COUNT = number of payments, SUM = total processed\n",
    "FROM payment\n",
    "GROUP BY staff_id;"
   ]
  },
  {
   "cell_type": "markdown",
   "id": "8b3eb612",
   "metadata": {},
   "source": [
    "## Task 2\n",
    "\n",
    "Corporate headquarters is auditing our store!  \n",
    "They want to know the **average replacement cost of movies by rating**.  \n",
    "For example, R-rated movies have an average replacement cost of $20.23.\n",
    "\n",
    "**Question:**  \n",
    "Calculate the average replacement cost for each movie rating, rounded to the nearest cent.\n",
    "\n",
    "```sql\n",
    "SELECT rating, ROUND(AVG(replacement_cost), 2)\n",
    "FROM film\n",
    "GROUP BY rating;"
   ]
  },
  {
   "cell_type": "markdown",
   "id": "c405be6c",
   "metadata": {},
   "source": [
    "## Task 3\n",
    "\n",
    "We want to send coupons to the **5 customers who have spent the most amount of money**.\n",
    "\n",
    "**Question:**  \n",
    "Get the customer IDs of the top 5 spenders and their total amount spent.\n",
    "\n",
    "```sql\n",
    "SELECT customer_id, SUM(amount)\n",
    "FROM payment\n",
    "GROUP BY customer_id\n",
    "ORDER BY SUM(amount) DESC\n",
    "LIMIT 5;"
   ]
  }
 ],
 "metadata": {
  "language_info": {
   "name": "python"
  }
 },
 "nbformat": 4,
 "nbformat_minor": 5
}
