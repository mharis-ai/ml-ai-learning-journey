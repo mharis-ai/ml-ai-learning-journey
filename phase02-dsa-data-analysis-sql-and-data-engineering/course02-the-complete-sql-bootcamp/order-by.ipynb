{
 "cells": [
  {
   "cell_type": "markdown",
   "id": "8026aaf8",
   "metadata": {},
   "source": [
    "## Task 1\n",
    "\n",
    "Get the customer ID numbers for the **top 10 highest payment amounts**.\n",
    "\n",
    "**Question:** Which customers made the highest payments?\n",
    "\n",
    "```sql\n",
    "SELECT customer_id, amount\n",
    "FROM payment\n",
    "ORDER BY amount DESC\n",
    "LIMIT 10;"
   ]
  },
  {
   "cell_type": "markdown",
   "id": "04437e21",
   "metadata": {},
   "source": [
    "## Task 2\n",
    "\n",
    "Get the titles of the movies with **film IDs 1–5**.\n",
    "\n",
    "**Question:** Which movies correspond to film IDs 1 through 5?\n",
    "\n",
    "```sql\n",
    "SELECT title, film_id\n",
    "FROM film\n",
    "ORDER BY film_id   -- sorts ASC by default\n",
    "LIMIT 5;"
   ]
  }
 ],
 "metadata": {
  "language_info": {
   "name": "python"
  }
 },
 "nbformat": 4,
 "nbformat_minor": 5
}
