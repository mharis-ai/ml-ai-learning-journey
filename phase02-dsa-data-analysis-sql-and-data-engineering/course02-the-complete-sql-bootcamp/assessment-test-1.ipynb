{
 "cells": [
  {
   "cell_type": "markdown",
   "id": "0bac953c",
   "metadata": {},
   "source": [
    "## Task 1\n",
    "\n",
    "Return the customer IDs of customers who have spent at least **$110** with the staff member who has a **Staff ID of 2**.  \n",
    "\n",
    "**Question:**  \n",
    "Which customers spent $110 or more with Staff 2?\n",
    "\n",
    "**Answer:** 187, 148\n",
    "\n",
    "```sql\n",
    "SELECT customer_id\n",
    "FROM payment\n",
    "WHERE staff_id = 2\n",
    "GROUP BY customer_id\n",
    "HAVING SUM(amount) >= 110;"
   ]
  },
  {
   "cell_type": "markdown",
   "id": "6861f4ac",
   "metadata": {},
   "source": [
    "## Task 2\n",
    "\n",
    "How many films begin with the letter **J**?  \n",
    "The answer should be **20**.\n",
    "\n",
    "**Question:**  \n",
    "Count the number of films where the title starts with the letter J.\n",
    "\n",
    "**Answer:** 20\n",
    "\n",
    "```sql\n",
    "SELECT COUNT(title)\n",
    "FROM film\n",
    "WHERE title LIKE 'J%';"
   ]
  },
  {
   "cell_type": "markdown",
   "id": "60fbdbb8",
   "metadata": {},
   "source": [
    "## Task 3\n",
    "\n",
    "What customer has the **highest customer ID** whose first name starts with an **'E'** and has an **address ID lower than 500**?  \n",
    "\n",
    "**Question:**  \n",
    "Retrieve the customer ID, first name, and last name for this customer.\n",
    "\n",
    "**Answer:** Eddie Tomlin.\n",
    "\n",
    "```sql\n",
    "SELECT customer_id, first_name, last_name\n",
    "FROM customer\n",
    "WHERE first_name LIKE 'E%' AND address_id < 500\n",
    "ORDER BY customer_id DESC\n",
    "LIMIT 1;"
   ]
  }
 ],
 "metadata": {
  "language_info": {
   "name": "python"
  }
 },
 "nbformat": 4,
 "nbformat_minor": 5
}
